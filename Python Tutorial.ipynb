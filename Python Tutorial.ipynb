{
 "cells": [
  {
   "cell_type": "markdown",
   "metadata": {},
   "source": [
    "# Python / Jupyter Notebook / Deep Learning Introduction\n",
    "\n",
    "University of Evansville\n",
    "--------------\n",
    "+ Keenen Cates\n",
    "+ kc235@evansville.edu\n",
    "+ ACM\n",
    "\n",
    "\n",
    "Hello! This notebook serves as an introduction to the power python programming language through the useful jupyter notebooks. Throughout this notebook we will build a library for building a simplistic neural network. The only prior knowledge required to follow along is basic algebraic knowledge."
   ]
  },
  {
   "cell_type": "markdown",
   "metadata": {},
   "source": [
    "# Jupyter Notebooks\n",
    "\n",
    "Jupyter Notebooks. They will blow your mind. Source, Output, and Markdown all in one convenient place; a nice html formatted page that's openable in any web browser. Plus, you can run just about any language you want with the right kernel. Overall Notebooks are just a huge win for coding in many cases, as it allows us to write succinct stories about code.\n",
    "\n",
    "Better yet, your using one right now! Isn't it great -- if it's not apparent yet, we'll learn how to wield the power of notebooks throughout this tutorial."
   ]
  },
  {
   "cell_type": "markdown",
   "metadata": {},
   "source": [
    "# Python Introduction\n",
    "\n",
    "## Why Python?\n",
    "\n",
    "Online I see the question: \"What is the best programming language?\"\n",
    "\n",
    "In a way this question doesn't quite make sense, programming languages serve different roles and have strengths and weaknesses suited for multiple areas. Asking this question is similar to asking, \"Is a hammer the best tool?\" Sure hammers are great, but they don't do a whole lot of good when trying to split a 2x4 in half.\n",
    "\n",
    "Python, in this respect, is an execellent general purpose tool for scientists and engineers. Python takes a \"batteries included\" approach to the the language, and aims to make programmers job as easy as possible -- allowing us to think about hard high-leel problems rather than say, memory allocation. Python also has a vast community of individuals from all disciplines, and there are many community developed libraries that increase the robustness of the language. Python itself is an interpreted language meaning we also don't have to deal with compile times, and have a robust interactive mode to test out the language.\n",
    "\n",
    "There are some draw backs in that the canonical CPython implementation is not the fastest language out there, and has problems with multi-threading due to the famous \"Global Interpreter Lock\" or \"GIL.\" Other Python language implementations such as Jython allow for better multi-threading, but still lacks in performance when compared to well optimized C code.\n",
    "\n",
    "The Zen of Python is as follows:"
   ]
  },
  {
   "cell_type": "code",
   "execution_count": null,
   "metadata": {},
   "outputs": [],
   "source": [
    "# Press shift-enter to run me; or press the run button with the mouse\n",
    "import this"
   ]
  },
  {
   "cell_type": "markdown",
   "metadata": {},
   "source": [
    "## Python Syntax"
   ]
  },
  {
   "cell_type": "markdown",
   "metadata": {},
   "source": [
    "In this section we will briefly discover some of the simple syntax present in python."
   ]
  },
  {
   "cell_type": "markdown",
   "metadata": {},
   "source": [
    "### Python as a Calculator"
   ]
  },
  {
   "cell_type": "markdown",
   "metadata": {},
   "source": [
    "Syntax for standard operators \"+, -, *, /\" in python is fairly straightforward"
   ]
  },
  {
   "cell_type": "code",
   "execution_count": null,
   "metadata": {},
   "outputs": [],
   "source": [
    "# Addition\n",
    "2 + 2"
   ]
  },
  {
   "cell_type": "code",
   "execution_count": null,
   "metadata": {},
   "outputs": [],
   "source": [
    "50 - 5 * 6"
   ]
  },
  {
   "cell_type": "code",
   "execution_count": null,
   "metadata": {},
   "outputs": [],
   "source": [
    "(50 - 5*6) / 4"
   ]
  },
  {
   "cell_type": "code",
   "execution_count": null,
   "metadata": {},
   "outputs": [],
   "source": [
    "8 / 5 #NOTE TO EXPERIENCED USERS: This is floating-point division, and python *automatically* casts this to a float"
   ]
  },
  {
   "cell_type": "code",
   "execution_count": null,
   "metadata": {},
   "outputs": [],
   "source": [
    "8 // 5 #This is integer division, meaning we drop the remainder (the .6)"
   ]
  },
  {
   "cell_type": "code",
   "execution_count": null,
   "metadata": {},
   "outputs": [],
   "source": [
    "17 % 3 "
   ]
  },
  {
   "cell_type": "code",
   "execution_count": null,
   "metadata": {},
   "outputs": [],
   "source": [
    "5 ** 2"
   ]
  },
  {
   "cell_type": "code",
   "execution_count": null,
   "metadata": {
    "scrolled": true
   },
   "outputs": [],
   "source": [
    "#NOTE TO EXPERIENCED PROGRAMMERS\n",
    "#Python converts mixed integers and floating point operations to floating point numbers\n",
    "1 - 3.75 + 2"
   ]
  },
  {
   "cell_type": "markdown",
   "metadata": {},
   "source": [
    "### Variables\n",
    "Variables are a way for us to name values that we might want to use later. For experienced programmers, variables in python are similar to most other languages; however, python lacks the static typing of languages of languages like C, C++, and Java. This can be a blessing and curse."
   ]
  },
  {
   "cell_type": "code",
   "execution_count": null,
   "metadata": {},
   "outputs": [],
   "source": [
    "width = 20\n",
    "height = 10\n",
    "width * height"
   ]
  },
  {
   "cell_type": "markdown",
   "metadata": {},
   "source": [
    "### Strings\n",
    "Strings are an entity in python to represent lists of characters such as 'Hello World'\n",
    "\n",
    "Strings are denoted with the single and double qoute in python as long as the starting and closing qoute match\n",
    "\n",
    "Here are some examples of strings:"
   ]
  },
  {
   "cell_type": "code",
   "execution_count": null,
   "metadata": {},
   "outputs": [],
   "source": [
    "'spam eggs'"
   ]
  },
  {
   "cell_type": "code",
   "execution_count": null,
   "metadata": {},
   "outputs": [],
   "source": [
    "\"spam eggs\""
   ]
  },
  {
   "cell_type": "code",
   "execution_count": null,
   "metadata": {},
   "outputs": [],
   "source": [
    "\"\"\"spam eggs\"\"\""
   ]
  },
  {
   "cell_type": "code",
   "execution_count": null,
   "metadata": {},
   "outputs": [],
   "source": [
    "#NOTE: the \\ is used so that the interpreter doesn't get confused by the internal '\n",
    "# This is called an escape character\n",
    "'doesn\\'t'"
   ]
  },
  {
   "cell_type": "markdown",
   "metadata": {},
   "source": [
    "### Printing\n",
    "Printing is something that lets us present a string in a more readable fashion i.e. without the qoutes"
   ]
  },
  {
   "cell_type": "code",
   "execution_count": null,
   "metadata": {},
   "outputs": [],
   "source": [
    "print('Hello, World!')"
   ]
  },
  {
   "cell_type": "code",
   "execution_count": null,
   "metadata": {},
   "outputs": [],
   "source": [
    "print('Hello, World\\nHello, Mom!') #\\n allows us to move to a new line!"
   ]
  },
  {
   "cell_type": "code",
   "execution_count": null,
   "metadata": {},
   "outputs": [],
   "source": [
    "print('Hello', 'World')"
   ]
  },
  {
   "cell_type": "markdown",
   "metadata": {},
   "source": [
    "### String Literals\n",
    "String literals can span multiple lines, and allow us to write strings that are formatted as presented i.e:"
   ]
  },
  {
   "cell_type": "code",
   "execution_count": null,
   "metadata": {},
   "outputs": [],
   "source": [
    "# The \\ can be used to omit a newline\n",
    "zen = \"\"\"\\\n",
    "The Zen of Python, by Tim Peters\n",
    "\n",
    "Beautiful is better than ugly.\n",
    "Explicit is better than implicit.\n",
    "Simple is better than complex.\n",
    "Complex is better than complicated.\n",
    "Flat is better than nested.\n",
    "Sparse is better than dense.\n",
    "Readability counts.\n",
    "\"\"\"\n",
    "\n",
    "print(zen)"
   ]
  },
  {
   "cell_type": "markdown",
   "metadata": {},
   "source": [
    "### Concatenation && Repetition\n",
    "Let's say we wanted to put two strings together i.e \"Hello\" \"World\" Python lets us do this rather simply"
   ]
  },
  {
   "cell_type": "code",
   "execution_count": null,
   "metadata": {},
   "outputs": [],
   "source": [
    "prefix = 'Py'\n",
    "postfix = 'thon'\n",
    "print(prefix + postfix)"
   ]
  },
  {
   "cell_type": "markdown",
   "metadata": {},
   "source": [
    "Now let's say we want to repeat the 'Py' 17 times; rather than write 'Py' 17 times let's use this:"
   ]
  },
  {
   "cell_type": "code",
   "execution_count": null,
   "metadata": {},
   "outputs": [],
   "source": [
    "print(prefix * 17)"
   ]
  },
  {
   "cell_type": "markdown",
   "metadata": {},
   "source": [
    "### Indexing\n",
    "Sometimes we might need to retrieve certain characters from a string or a subrange of the total string. We can using indexing to do so:"
   ]
  },
  {
   "cell_type": "code",
   "execution_count": null,
   "metadata": {},
   "outputs": [],
   "source": [
    "word = 'Python'"
   ]
  },
  {
   "cell_type": "code",
   "execution_count": null,
   "metadata": {},
   "outputs": [],
   "source": [
    "word[0]"
   ]
  },
  {
   "cell_type": "code",
   "execution_count": null,
   "metadata": {},
   "outputs": [],
   "source": [
    "word[1]"
   ]
  },
  {
   "cell_type": "code",
   "execution_count": null,
   "metadata": {},
   "outputs": [],
   "source": [
    "word[-1]"
   ]
  },
  {
   "cell_type": "code",
   "execution_count": null,
   "metadata": {},
   "outputs": [],
   "source": [
    "word[-2]"
   ]
  },
  {
   "cell_type": "markdown",
   "metadata": {},
   "source": [
    "### Slicing \n",
    "For retrieving slices of the string we can use the syntax as follows:"
   ]
  },
  {
   "cell_type": "code",
   "execution_count": null,
   "metadata": {},
   "outputs": [],
   "source": [
    "word[0:5]"
   ]
  },
  {
   "cell_type": "code",
   "execution_count": null,
   "metadata": {},
   "outputs": [],
   "source": [
    "word[1:]"
   ]
  },
  {
   "cell_type": "code",
   "execution_count": null,
   "metadata": {},
   "outputs": [],
   "source": [
    "word[-2:]"
   ]
  },
  {
   "cell_type": "markdown",
   "metadata": {},
   "source": [
    "### Length\n",
    "To find the length of a string, simply use pythons len function just like we used print"
   ]
  },
  {
   "cell_type": "code",
   "execution_count": null,
   "metadata": {},
   "outputs": [],
   "source": [
    "len(word)"
   ]
  },
  {
   "cell_type": "markdown",
   "metadata": {},
   "source": [
    "## Lists\n",
    "In python, lists are a compound data type that are used for grouping together values (not unlike strings grouping characters together. Lists can contain different types of this, but general have the same types. Lists are denoted using square brackets, i.e :"
   ]
  },
  {
   "cell_type": "code",
   "execution_count": null,
   "metadata": {},
   "outputs": [],
   "source": [
    "squares = [1, 4, 9, 16, 25]\n",
    "print(squares)"
   ]
  },
  {
   "cell_type": "markdown",
   "metadata": {},
   "source": [
    "### Slicing\n",
    "Just like strings we can slice lists up"
   ]
  },
  {
   "cell_type": "code",
   "execution_count": null,
   "metadata": {},
   "outputs": [],
   "source": [
    "squares[0]"
   ]
  },
  {
   "cell_type": "code",
   "execution_count": null,
   "metadata": {},
   "outputs": [],
   "source": [
    "squares[-1]"
   ]
  },
  {
   "cell_type": "code",
   "execution_count": null,
   "metadata": {},
   "outputs": [],
   "source": [
    "squares[-3:]"
   ]
  },
  {
   "cell_type": "code",
   "execution_count": null,
   "metadata": {},
   "outputs": [],
   "source": [
    "squares[:]"
   ]
  },
  {
   "cell_type": "markdown",
   "metadata": {},
   "source": [
    "### Sneak Peak - Dictionaries\n",
    "Dictionaries are hands down one of the most power data structures we have. That being said there are many data structures that are benefecial to us as programmers, and it's recommended to explore the standard library about structures like deques. For now, we will simply observe what a dictionary does.\n",
    "\n",
    "Dictionaries are the standard library implementation of a data structure with generic key value pairs. I.e we can have any type mapped to another type."
   ]
  },
  {
   "cell_type": "code",
   "execution_count": null,
   "metadata": {},
   "outputs": [],
   "source": [
    "mydict = {'horse':22, 'dog':23, 'kangaroo':84}\n",
    "print(mydict['kangaroo'])\n",
    "print(mydict.items())"
   ]
  },
  {
   "cell_type": "markdown",
   "metadata": {},
   "source": [
    "### Immutability && Mutability\n",
    "Strings are immutable meaning that you can't change them once they are made, instead you have to store the resultant as a new thing.\n",
    "\n",
    "List on the other hand; are a mutable data structure meaning they can be changed and we don't have to create a new list."
   ]
  },
  {
   "cell_type": "code",
   "execution_count": null,
   "metadata": {},
   "outputs": [],
   "source": [
    "word = 'Python'"
   ]
  },
  {
   "cell_type": "code",
   "execution_count": null,
   "metadata": {},
   "outputs": [],
   "source": [
    "word[1] = 'P'"
   ]
  },
  {
   "cell_type": "code",
   "execution_count": null,
   "metadata": {},
   "outputs": [],
   "source": [
    "word = ['P', 'y', 't', 'h', 'o', 'n']"
   ]
  },
  {
   "cell_type": "code",
   "execution_count": null,
   "metadata": {},
   "outputs": [],
   "source": [
    "word"
   ]
  },
  {
   "cell_type": "code",
   "execution_count": null,
   "metadata": {},
   "outputs": [],
   "source": [
    "word[1] = 'P'"
   ]
  },
  {
   "cell_type": "code",
   "execution_count": null,
   "metadata": {},
   "outputs": [],
   "source": [
    "word"
   ]
  },
  {
   "cell_type": "code",
   "execution_count": null,
   "metadata": {},
   "outputs": [],
   "source": [
    "# We can also add to the end of a list using append()\n",
    "word.append('P')"
   ]
  },
  {
   "cell_type": "code",
   "execution_count": null,
   "metadata": {},
   "outputs": [],
   "source": [
    "word"
   ]
  },
  {
   "cell_type": "markdown",
   "metadata": {},
   "source": [
    "## First Steps\n",
    "\n",
    "Now that we know a little bit about python, let's try and dissect a more complicated example involving the Fibonacci sequence.\n",
    "\n",
    "The Fibonaccie Sequence is generated by added the two previous terms together; i.e the recursive definition is as follows ([] denotes subscript):\n",
    "\n",
    "n[n] = n[n-1] + n[n-2]\n",
    "\n",
    "The code is as follows:"
   ]
  },
  {
   "cell_type": "code",
   "execution_count": null,
   "metadata": {},
   "outputs": [],
   "source": [
    "def fibonacci_seq(): ## Function DEFINITION\n",
    "    a, b = 0, 1      ## Multple Assignment\n",
    "    while b < 10:    ## While Loop\n",
    "        print(b)\n",
    "        a, b = b, a + b\n",
    "        \n",
    "fibonacci_seq() ## Function CALL"
   ]
  },
  {
   "cell_type": "markdown",
   "metadata": {},
   "source": [
    "### Functions\n",
    "Firstly, this is a function definition. We are defining something similar to print() in which we can call whenever we desire. This makes function extremely useful for writing code once that we might have to do over and over again. It would get tedious and disorganized to write the same all over the place.\n",
    "\n",
    "Once we define a function we can call it such as in the example above."
   ]
  },
  {
   "cell_type": "markdown",
   "metadata": {},
   "source": [
    "### Multiple Assignment\n",
    "In the line marked Multiple Assignment, we can see how we can;t succinctly assign variables all at once. This syntax speaks for iteself, but keep in mind that both sides of the equal sign are evaluated from left to right."
   ]
  },
  {
   "cell_type": "markdown",
   "metadata": {},
   "source": [
    "### While Loops\n",
    "Sometimes we need to do things a certain amount of times. While loops are a good solution for this. The syntax follows the form:\n",
    "\n",
    "while (boolean experession)\n",
    "\n",
    "A boolean expression is a piece of logic that we write which determines the logic under which the loop recurrs for example: b < 10\n",
    "\n",
    "This means we will loop the interior of the loop while this condition holds.\n",
    "\n"
   ]
  },
  {
   "cell_type": "markdown",
   "metadata": {},
   "source": [
    "## More Control\n",
    "Along with while loops there are more expression that allow us to choose how to control the flow of the program (i.e repeating patterns and conditional branches)"
   ]
  },
  {
   "cell_type": "markdown",
   "metadata": {},
   "source": [
    "### If Statements\n",
    "If is a way to branch between different pieces of code depending on a conditional statement."
   ]
  },
  {
   "cell_type": "code",
   "execution_count": null,
   "metadata": {},
   "outputs": [],
   "source": [
    "x = int(input(\"Please enter an integer: \"))"
   ]
  },
  {
   "cell_type": "code",
   "execution_count": null,
   "metadata": {},
   "outputs": [],
   "source": [
    "if x < 0:\n",
    "    x = 0\n",
    "    print('Negative change to zero')\n",
    "elif x == 0:\n",
    "    print('Zero')\n",
    "elif x == 1:\n",
    "    print('Single')\n",
    "else:\n",
    "    print('More')"
   ]
  },
  {
   "cell_type": "markdown",
   "metadata": {},
   "source": [
    "### For Statments\n",
    "For statments differ slightly from other languages. Python's for iterates over a collection; for example:"
   ]
  },
  {
   "cell_type": "code",
   "execution_count": null,
   "metadata": {},
   "outputs": [],
   "source": [
    "words = ['cat', 'window', 'supercalifragisitc']\n",
    "for w in words:\n",
    "    print(w, len(w))"
   ]
  },
  {
   "cell_type": "markdown",
   "metadata": {},
   "source": [
    "#### Range \n",
    "when needing to iterate over a sequence of numbers, use a for loop with range:"
   ]
  },
  {
   "cell_type": "code",
   "execution_count": null,
   "metadata": {},
   "outputs": [],
   "source": [
    "for i in range(5):\n",
    "    print(i)"
   ]
  },
  {
   "cell_type": "code",
   "execution_count": null,
   "metadata": {},
   "outputs": [],
   "source": [
    "for i in range(1, 10, 2):\n",
    "    print(i)"
   ]
  },
  {
   "cell_type": "markdown",
   "metadata": {},
   "source": [
    "#### enumerate\n",
    "when needing the index of an object and the object; use enumerate:"
   ]
  },
  {
   "cell_type": "code",
   "execution_count": null,
   "metadata": {},
   "outputs": [],
   "source": [
    "a = ['Mary', 'had', 'a', 'little', 'lamb']\n",
    "for i, w in enumerate(a):\n",
    "    print(i, a[i])"
   ]
  },
  {
   "cell_type": "markdown",
   "metadata": {},
   "source": [
    "#### Looping on a dictionary"
   ]
  },
  {
   "cell_type": "code",
   "execution_count": null,
   "metadata": {},
   "outputs": [],
   "source": [
    "mydict = {'horse':22, 'dog':23, 'kangaroo':84}\n",
    "for k, v in mydict.items():\n",
    "    print(k, v)"
   ]
  },
  {
   "cell_type": "markdown",
   "metadata": {},
   "source": [
    "##### Note: Break, Continue, and Pass\n",
    "There are more control statements that can be useful, feel free to check out python's amazing documentation on these control statments"
   ]
  },
  {
   "cell_type": "markdown",
   "metadata": {},
   "source": [
    "# Skill Test\n",
    "Now let's test our skills with looping! Implement this function just using looping and logic (no str library):"
   ]
  },
  {
   "cell_type": "code",
   "execution_count": null,
   "metadata": {},
   "outputs": [],
   "source": [
    "def replace_char(text, target, replacement):\n",
    "    \"\"\"\n",
    "    Given a string of text, replaces the target \n",
    "    with the replacement and returns the new text.\n",
    "    :param text - a string with characters to be replaced\n",
    "    :param target - the target character(s) in text we want to replace\n",
    "    :param replacement - the character to replace target with\n",
    "    \"\"\"\n",
    "    #TODO IMPLEMENT THIS FUNCTION\n",
    "    return None #should return the new text"
   ]
  },
  {
   "cell_type": "markdown",
   "metadata": {},
   "source": [
    "## Wrap Up\n",
    "\n",
    "In nutshell we have covered the basics of Python; however, I recommend practicing in python an looking at documentation often. If you feel like something is hard in python, I recommend looking in the standard library as there is probably an easy solution.\n",
    "\n",
    "#### List Comprehensions and Decorators\n",
    "These are some cool features just to show of some more powerful features... however I recommend checking out context manager and generators aswell"
   ]
  },
  {
   "cell_type": "code",
   "execution_count": null,
   "metadata": {},
   "outputs": [],
   "source": [
    "#List Comprehension\n",
    "#Syntactic sugar for for loops!\n",
    "alphabet = ['a', 'b', 'c', 'd']\n",
    "numbers = ['1', '2', '3', '4']\n",
    "print([x for x in alphabet])\n",
    "print([x + y for x, y in zip(alphabet, numbers)])"
   ]
  },
  {
   "cell_type": "code",
   "execution_count": null,
   "metadata": {},
   "outputs": [],
   "source": [
    "#Decorators -- wrap functions with functions\n",
    "def enter_exit(f):\n",
    "    def new_f():\n",
    "        print(\"Entering\", f.__name__)\n",
    "        f()\n",
    "        print(\"Exiting\", f.__name__)\n",
    "    return new_f\n",
    "\n",
    "#The decorator syntax\n",
    "@enter_exit\n",
    "def hello_world():\n",
    "    print(\"Hello World!\")\n",
    "    \n",
    "hello_world()"
   ]
  },
  {
   "cell_type": "code",
   "execution_count": null,
   "metadata": {},
   "outputs": [],
   "source": [
    "#Context Managers for File IO\n",
    "#Useful for forcing a file to close\n",
    "with open('hello.txt', 'r') as f:\n",
    "    print(f.read())"
   ]
  },
  {
   "cell_type": "markdown",
   "metadata": {},
   "source": [
    "### Annotations & Docstrings\n",
    "Annotations are useful for annotating what the types should be, and doc strings are for documentation! used as follows:"
   ]
  },
  {
   "cell_type": "code",
   "execution_count": null,
   "metadata": {},
   "outputs": [],
   "source": [
    "def adder(a: int, b:int = 2) -> int:\n",
    "    \"\"\"\n",
    "    Adder: Adds two integers and returns an int\n",
    "    \n",
    "    No seriously, that's all it does!!\n",
    "    \"\"\"\n",
    "    print('Annotations:', adder.__annotations__)\n",
    "    print('Arguments:', a, b)\n",
    "    return a + b\n",
    "adder(1, 2)"
   ]
  },
  {
   "cell_type": "markdown",
   "metadata": {},
   "source": [
    "# Vector Math\n",
    "\n",
    "Vectors are a useful entity for computation, and as such we are going to implement a basic vector operations that will make our lives easier\n",
    "\n",
    "Vectors are essentially an immutable list of things.\n",
    "\n",
    "To do this we will use, tuples.\n",
    "\n",
    "Tuples are similar to list, but tuples are actually immutable and declared as such:"
   ]
  },
  {
   "cell_type": "code",
   "execution_count": null,
   "metadata": {},
   "outputs": [],
   "source": [
    "tup2 = ('a', 'b')"
   ]
  },
  {
   "cell_type": "code",
   "execution_count": null,
   "metadata": {},
   "outputs": [],
   "source": [
    "tup2"
   ]
  },
  {
   "cell_type": "markdown",
   "metadata": {},
   "source": [
    "Now attempt to complete the functions below!!!"
   ]
  },
  {
   "cell_type": "code",
   "execution_count": null,
   "metadata": {},
   "outputs": [],
   "source": [
    "def scalar_multiply(vec_a, scalar):\n",
    "    #TODO implement scalar multiplication\n",
    "    #     (2) * (1, 2, 3) = (2, 4, 6)\n",
    "    pass # remove this\n",
    "    \n",
    "def elementwise_addition(vec_a, vec_b):\n",
    "    #TODO implement elementwise addition i.e\n",
    "    #     (1, 2, 3) .+ (4, 5, 6) = (1 + 4, 2 + 5, 3 + 6)\n",
    "    #                            = (5, 7, 9)\n",
    "    pass # remove this\n",
    "\n",
    "def elementwise_multiplication(vec_a, vec_b):\n",
    "    #TODO implement elementwise multiplication i.e\n",
    "    #     (1, 2, 3) .* (4, 5, 6) = (1 * 4, 2 * 5, 3 * 6)\n",
    "    #                            = (4, 10, 18)\n",
    "    pass # remove this\n",
    "\n",
    "def vector_sum(vec_a):\n",
    "    #TODO implement vector summation\n",
    "    #     sum(1, 2, 3) = 1 + 2 + 3 \n",
    "    #                  = 6\n",
    "    pass # remove this\n",
    "\n",
    "def vector_average(vec_a):\n",
    "    #TODO implement vector averaging\n",
    "    #     avg(1, 2, 3) = sum(1, 2, 3) / len(1, 2, 3) \n",
    "    #                  = 6 / 3 \n",
    "    #                  = 2\n",
    "    pass # remove this\n",
    "\n",
    "def dot_product(vec_a, vec_b):\n",
    "    #TODO implement vector dot products\n",
    "    #     (1, 2, 3) * (4, 5, 6) = 1 * 4 + 2 * 5 + 3 * 6\n",
    "    #                           = 4 + 10 + 18\n",
    "    #                           = 32\n",
    "    pass # remove this"
   ]
  },
  {
   "cell_type": "markdown",
   "metadata": {},
   "source": [
    "## Tests\n",
    "\n",
    "Here are some basic tests for your library, feel free to add more assertions."
   ]
  },
  {
   "cell_type": "code",
   "execution_count": null,
   "metadata": {},
   "outputs": [],
   "source": [
    "def run_tests():\n",
    "    assert(scalar_multiply((1, 2, 3), 2) == (2, 4, 6))\n",
    "    assert(elementwise_addition((1, 2, 3), (4, 5, 6)) == (5, 7, 9))\n",
    "    assert(elementwise_multiplication((1, 2, 3), (4, 5, 6)) == (4, 10, 18))\n",
    "    assert(vector_sum((1, 2, 3)) == 6)\n",
    "    assert(vector_average((1, 2, 3)) == 2)\n",
    "    assert(dot_product((1, 2, 3), (4, 5, 6)) == 32)\n",
    "run_tests()"
   ]
  },
  {
   "cell_type": "markdown",
   "metadata": {},
   "source": [
    "# A Simple Neural Network\n",
    "\n",
    "As an extension of our library, we are going to write a very basic neural network. Neural networks can be thought as a way to make predictions given data, in our example we will predict whether or not a team will win based on some basic input."
   ]
  },
  {
   "cell_type": "code",
   "execution_count": null,
   "metadata": {},
   "outputs": [],
   "source": [
    "# OUR DATA\n",
    "wlrec = [0.65, 0.8, 0.8, 0.9] # win loss record\n",
    "nfans = [1.20, 1.3, 0.5, 1.0] # number of fans\n",
    "ntoes = [8.50, 9.5, 9.9, 9.0] # number of toes"
   ]
  },
  {
   "cell_type": "markdown",
   "metadata": {},
   "source": [
    "### The most basic network\n",
    "In this example we show that a network is essentially a a weighting of the inputs. This could be thought as dials on a machine. Tuning the weights changes the prediction, so in our most basic example we will feed in one datum and multiply the data point by our weight."
   ]
  },
  {
   "cell_type": "code",
   "execution_count": null,
   "metadata": {},
   "outputs": [],
   "source": [
    "def neural_network(inp, weight):\n",
    "    \"\"\"\n",
    "    Neural Network: Generates a basic prediction.\n",
    "    \n",
    "    Multiplies the single input by \n",
    "    the weight and returns a prediction.\n",
    "    \"\"\"\n",
    "    ## TODO: IMPLEMENT THIS FUNCTION\n",
    "    pass ## remove this\n",
    "\n",
    "#test run\n",
    "neural_network(ntoes[0], 0.1)"
   ]
  },
  {
   "cell_type": "markdown",
   "metadata": {},
   "source": [
    "And there you made your first neural network! Now, number of toes may not be a very good predictor, and really there are many other considerations when predicting if a baseball team will win. So, let's take into consideration more data!"
   ]
  },
  {
   "cell_type": "code",
   "execution_count": null,
   "metadata": {},
   "outputs": [],
   "source": [
    "def multi_input_network(inputs, weights):\n",
    "    \"\"\"\n",
    "    multi_input_network: makes a prediction \n",
    "    based on multiple inputs.\n",
    "    \n",
    "    Takes multiple inputs and multiplies \n",
    "    them times their weights.\n",
    "    \"\"\"\n",
    "    ## TODO: IMPLEMENT THIS FUNCTIOn\n",
    "    pass ## remove this\n",
    "\n",
    "multi_input_network((ntoes[0], wlrec[0], nfans[0]), (0.1, 0.2, 0))"
   ]
  }
 ],
 "metadata": {
  "kernelspec": {
   "display_name": "Python 3",
   "language": "python",
   "name": "python3"
  },
  "language_info": {
   "codemirror_mode": {
    "name": "ipython",
    "version": 3
   },
   "file_extension": ".py",
   "mimetype": "text/x-python",
   "name": "python",
   "nbconvert_exporter": "python",
   "pygments_lexer": "ipython3",
   "version": "3.7.4"
  }
 },
 "nbformat": 4,
 "nbformat_minor": 2
}
